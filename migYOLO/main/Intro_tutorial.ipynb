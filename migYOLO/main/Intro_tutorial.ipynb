{
 "cells": [
  {
   "cell_type": "code",
   "execution_count": null,
   "id": "02b5d817",
   "metadata": {},
   "outputs": [],
   "source": [
    "import migYOLO.pipeline.pipeline as mp\n",
    "import migYOLO.utils.readYAML as ry\n",
    "from ultralytics import YOLO\n",
    "import numpy as np\n",
    "import pandas as pd\n",
    "import matplotlib.pyplot as plt\n",
    "from skimage import io\n",
    "import os\n",
    "import torch"
   ]
  },
  {
   "cell_type": "markdown",
   "id": "61e827c0",
   "metadata": {},
   "source": [
    "# Overview\n",
    "\n",
    "The migYOLO pipeline contains tools to downsample and process images with YOLO. This tutorial will breakdown this process step-by-step. After this, we can run `process_images.py` to process all of our images. The other notebook in this directory, called `Migdal_skim_visualization.ipynb`, shows an example of analyzing YOLO's outputs.\n",
    "\n",
    "Let's start by loading `globalConf.yaml` to get a sense of the parameters you can adjust in this file"
   ]
  },
  {
   "cell_type": "code",
   "execution_count": null,
   "id": "1d033701",
   "metadata": {},
   "outputs": [],
   "source": [
    "conf = ry.read_config_file('globalConf.yaml')"
   ]
  },
  {
   "cell_type": "code",
   "execution_count": null,
   "id": "6e93edef",
   "metadata": {},
   "outputs": [],
   "source": [
    "'''conf has two keys that can be read as conf['yoloConf'] and conf['downsample']\n",
    "Open up globalConf.yaml in a text editor for more detailed descriptions of each key'''\n",
    "conf"
   ]
  },
  {
   "cell_type": "markdown",
   "id": "b2e7a1f5",
   "metadata": {},
   "source": [
    "### GPU test: If you're planning to run with GPU support, the following cell should output True. If it does not, then your PyTorch GPU support isn't correctly configured. Troubleshooting this is an issue with PyTorch and not migYOLO"
   ]
  },
  {
   "cell_type": "code",
   "execution_count": null,
   "id": "2dba1566",
   "metadata": {},
   "outputs": [],
   "source": [
    "torch.cuda.is_available()"
   ]
  },
  {
   "cell_type": "markdown",
   "id": "771d9870",
   "metadata": {},
   "source": [
    "### Now let's load some images"
   ]
  },
  {
   "cell_type": "code",
   "execution_count": null,
   "id": "99079c28",
   "metadata": {},
   "outputs": [],
   "source": [
    "\"\"\"Let's see the image files we have\"\"\"\n",
    "os.listdir(conf['downsample']['data_dir'])"
   ]
  },
  {
   "cell_type": "code",
   "execution_count": null,
   "id": "2b47f369",
   "metadata": {},
   "outputs": [],
   "source": [
    "\"\"\"We'll just load the first image\"\"\"\n",
    "ims = io.imread(conf['downsample']['data_dir']+'/Images_batch_1.MTIFF',plugin='tifffile')"
   ]
  },
  {
   "cell_type": "code",
   "execution_count": null,
   "id": "526d7d54",
   "metadata": {},
   "outputs": [],
   "source": [
    "'''We can see the dimensions of the images using np.shape(). The output tells us we have\n",
    "200 images of dimension 2048 x 1152'''\n",
    "np.shape(ims)"
   ]
  },
  {
   "cell_type": "code",
   "execution_count": null,
   "id": "a2e09996",
   "metadata": {},
   "outputs": [],
   "source": [
    "'''This is a raw image without any processing'''\n",
    "\n",
    "plt.imshow(ims[3])\n",
    "plt.colorbar()"
   ]
  },
  {
   "cell_type": "code",
   "execution_count": null,
   "id": "7028e369",
   "metadata": {},
   "outputs": [],
   "source": [
    "'''We can use the mp.downsample class to process our image\n",
    "It can read in a single image or a whole stack of them'''\n",
    "ds = mp.downsample(ims[3])"
   ]
  },
  {
   "cell_type": "code",
   "execution_count": null,
   "id": "a9f3aba5",
   "metadata": {},
   "outputs": [],
   "source": [
    "'''ds is an instance of the downsample object acting on ims[0]\n",
    "The functions of note here are ds.downsampledImages and ds.processedImages'''\n",
    "downsample = ds.downSampledImages\n",
    "processed = ds.processedImages"
   ]
  },
  {
   "cell_type": "code",
   "execution_count": null,
   "id": "6724ab52",
   "metadata": {},
   "outputs": [],
   "source": [
    "plt.figure(figsize = (18,9))\n",
    "\n",
    "'''dark subtracted and 4x4 binned'''\n",
    "plt.subplot(2,1,1)\n",
    "plt.imshow(downsample,cmap = 'jet')\n",
    "plt.xlabel('x')\n",
    "plt.ylabel('y')\n",
    "plt.title('4x4 binned')\n",
    "plt.colorbar().set_label('Intensity [ADU]',rotation = 270,labelpad = 20)\n",
    "\n",
    "'''dark subtracted, 4x4 binned, and Gaussian filtered'''\n",
    "plt.subplot(2,1,2)\n",
    "plt.imshow(processed,cmap = 'jet')\n",
    "plt.xlabel('x')\n",
    "plt.ylabel('y')\n",
    "plt.title('4x4 binned with Gaussian blurring')\n",
    "plt.colorbar().set_label('Intensity [ADU]',rotation = 270,labelpad = 20)\n",
    "\n",
    "plt.tight_layout()\n",
    "plt.show()"
   ]
  },
  {
   "cell_type": "code",
   "execution_count": null,
   "id": "f801e566",
   "metadata": {},
   "outputs": [],
   "source": [
    "'''We can do the same with the entire batch of images (takes a bit of time on a CPU, very quick on a modern GPU)'''\n",
    "ds_all = mp.downsample(ims)"
   ]
  },
  {
   "cell_type": "code",
   "execution_count": null,
   "id": "f479ba41",
   "metadata": {},
   "outputs": [],
   "source": [
    "'''You can see that we now have 200 processed images of shape 512 x 288'''\n",
    "np.shape(ds_all.processedImages)"
   ]
  },
  {
   "cell_type": "code",
   "execution_count": null,
   "id": "31a75e7e",
   "metadata": {},
   "outputs": [],
   "source": [
    "'''Lets look at a random processed_image'''\n",
    "processed_ims = ds_all.processedImages\n",
    "\n",
    "plt.imshow(processed_ims[1],cmap = 'jet')\n",
    "plt.xlabel('x')\n",
    "plt.ylabel('y')\n",
    "plt.title('4x4 binned with Gaussian blurring')\n",
    "plt.colorbar().set_label('Intensity [ADU]',rotation = 270,labelpad = 20)"
   ]
  },
  {
   "cell_type": "markdown",
   "id": "73575d1b",
   "metadata": {},
   "source": [
    "# Now let's process these images with YOLO\n",
    "\n",
    "mp.yolo takes 4x4 Gaussian filtered images as input. conf['yoloConf'] has many of the important input parameters. **Remember, you can edit all of these parameters in `globalConf.yaml`**. If you're using the pretrained models\n",
    "that come with migYOLO, do not edit `png_threshold` or `png_saturation`.\n",
    "\n",
    "mp.yolo is a high-level function that processes each image and outputs pandas dataframes containing physical quantities of interest. If you would like more flexibility in what YOLO outputs, please consult the [Ultralytics YOLOv8 documentation](https://github.com/ultralytics/ultralytics)"
   ]
  },
  {
   "cell_type": "code",
   "execution_count": null,
   "id": "51bf792d",
   "metadata": {},
   "outputs": [],
   "source": [
    "conf['yoloConf']"
   ]
  },
  {
   "cell_type": "code",
   "execution_count": null,
   "id": "0bd000de",
   "metadata": {},
   "outputs": [],
   "source": [
    "np.expand_dims(processed_ims[51],axis=0)"
   ]
  },
  {
   "cell_type": "code",
   "execution_count": null,
   "id": "3c90228d",
   "metadata": {},
   "outputs": [],
   "source": [
    "'''YOLO currently does not have support to be run on one image at a time. Two images at a time is okay, however. It\n",
    "is most efficient to run on all 200 images (provided there is enough memory to handle it). YOLO takes a while \n",
    "to run on a cpu (up to a few minutes), while it is very fast on a modern GPU (a few seconds or less)'''\n",
    "\n",
    "sample = processed_ims #If you wanted to run on a subset you could set sample = processed_ims[i:j]; with j-i > 1\n",
    "\n",
    "yolo = mp.yolo(\n",
    "        infile = sample, #This can either be a numpy array or a .npy/.npz file\n",
    "        outpath = None, #If outpath is not specified, YOLO's output will not be saved\n",
    "        outfilename = None, #Should be a name with .feather at the end if outpath is not None\n",
    "        model = YOLO(conf['yoloConf']['model']), #Ultralytics' YOLO() wraps around our model which is augment.pt\n",
    "        vignetting_map_file = conf['yoloConf']['vignetting_map'], #this is to correct toward vignetting away from the center of the readout\n",
    "        calibration_file = conf['yoloConf']['calibration_file'], #this is to calibrate energy\n",
    "        png_threshold = conf['yoloConf']['png_threshold'], #YOLO is trained on log scale images, this is the threshold intensity on a logarithmic scale\n",
    "        png_saturation = conf['yoloConf']['png_saturation'], #threshold max intensity on a log scale. If you're using base.pt or augment.pt, don't change this or png_threshold\n",
    "        remove_downsample = False, #If infile were a .npy or .npz filepath, setting this to True would delete that file\n",
    "        save_pixels = conf['yoloConf']['save_pixels'], #True saves the pixel data within each bounding box. Recommend False to keep outfile sizes smaller\n",
    "        migdal_cut = conf['yoloConf']['migdal_cut']) #Migdal search criteria"
   ]
  },
  {
   "cell_type": "code",
   "execution_count": null,
   "id": "2169ad68",
   "metadata": {},
   "outputs": [],
   "source": [
    "'''The output of YOLO is a pandas dataframe'''\n",
    "out = yolo.data\n",
    "\n",
    "'''Migdal candidates are found in yolo.comb. yolo.comb will be empty if no candidates satisfying the\n",
    "criteria entered into the migdal_cut argument of mp.yolo() are found'''\n",
    "\n",
    "cand = yolo.comb"
   ]
  },
  {
   "cell_type": "code",
   "execution_count": null,
   "id": "9decf8c2",
   "metadata": {},
   "outputs": [],
   "source": [
    "\"\"\"Let's see the content of our output\"\"\"\n",
    "print(out.columns,len(out))"
   ]
  },
  {
   "cell_type": "code",
   "execution_count": null,
   "id": "1ab8d5ca",
   "metadata": {},
   "outputs": [],
   "source": [
    "'''Lets see our output species'''\n",
    "output_map = {0:'ER',1:'Hot_pix',2:'NR',3:'proton',4:'proton_ag',5:\"shutter_clip\",\n",
    "             6:'spark',7:'spark_ag',8:'storm'}\n",
    "fig,ax = plt.subplots()\n",
    "ax.hist(out['prediction']-0.25,bins = 18, range = (-0.25,8.75))\n",
    "ax.set_xticks([i for i in range(0,9)])\n",
    "ax.set_xticklabels([output_map[i] for i in range(0,9)],rotation=75)\n",
    "plt.show()"
   ]
  },
  {
   "cell_type": "code",
   "execution_count": null,
   "id": "044dd57c",
   "metadata": {},
   "outputs": [],
   "source": [
    "'''NR ghosts (Section III of paper) are initially predicted to be ERs (prediction = 0) by YOLO, however we have\n",
    "a flag for these afterglows that mp.yolo() computes. Let\"s change the prediction of NR ghosts from 0 to 9'''\n",
    "\n",
    "#Query events that are flagged as NR ghosts (AG stands for \"afterglow\")\n",
    "out.query('AG_flag == 1')\n",
    "\n",
    "#Change the prediction to 9\n",
    "index = out.query('AG_flag == 1').index.to_numpy() #get index of afterglows\n",
    "out['prediction'][index] = 9 #set afterglow prediction to 9"
   ]
  },
  {
   "cell_type": "code",
   "execution_count": null,
   "id": "91ab3c90",
   "metadata": {},
   "outputs": [],
   "source": [
    "'''Now lets plot with NR ghosts labeled as NR_ag. IMPORTANT: since image frames in our sample were\n",
    "pulled at random from a much larger set of data, the parent frames of ghost events \n",
    "will not be present in these samples'''\n",
    "output_map = {0:'ER',1:'Hot_pix',2:'NR',3:'proton',4:'proton_ag',5:\"shutter_clip\",\n",
    "             6:'spark',7:'spark_ag',8:'storm',9:'NR_ag'}\n",
    "fig,ax = plt.subplots()\n",
    "ax.hist(out['prediction']-0.25,bins = 20, range = (-0.25,9.75))\n",
    "ax.set_xticks([i for i in range(0,10)])\n",
    "ax.set_xticklabels([output_map[i] for i in range(0,10)],rotation=75)\n",
    "plt.show()"
   ]
  },
  {
   "cell_type": "markdown",
   "id": "2dea9116",
   "metadata": {},
   "source": [
    "### Finally, let's plot some bounding boxes on the parent frames"
   ]
  },
  {
   "cell_type": "code",
   "execution_count": null,
   "id": "9187e061",
   "metadata": {},
   "outputs": [],
   "source": [
    "'''original_index tells us which frame the image belonged to\n",
    "\n",
    "Recall: ims = raw images\n",
    "        sample = processed images\n",
    "\n",
    "'''    \n",
    "\n",
    "'''im_array is the array of images\n",
    "i is the frame index\n",
    "yolo_scale if set to True, plots the downsampled image on the log scale that\"s fed into YOLO\n",
    "conf_thresh is the YOLO classification confidence threshold. min is 0, max is 1'''\n",
    "\n",
    "def plot(im_array,i,yolo_scale,conf_thresh = 0):\n",
    "    tmp = out.query('original_index == %s & prob >= %s'%(i,conf_thresh)) #grab the ith frame from YOLO's output dataframe\n",
    "    if len(tmp) == 0:\n",
    "        raise ValueError(\"No YOLO events for frame %s\"%(i))\n",
    "    max_dim = np.shape(im_array)[2]\n",
    "    \n",
    "    '''Multiply bounding box perimeters by 4 if raw image'''\n",
    "    if max_dim == 2048:\n",
    "        if yolo_scale:\n",
    "            raise ValueError(\"yolo_scale needs to be False for unprocessed images\")\n",
    "        for col in ['colmin','colmax','rowmin','rowmax']:\n",
    "            tmp[col] = tmp[col] * 4\n",
    "    elif max_dim == 512:\n",
    "        pass\n",
    "    else:\n",
    "        raise ValueError(\"This code was made for 2048 x 1152 or 512 x 288 images\")\n",
    "    \n",
    "    plt.figure(figsize = (9,4.5))\n",
    "    \n",
    "    #Plot image\n",
    "    if not yolo_scale:\n",
    "        plt.imshow(im_array[i],cmap='jet')\n",
    "    else:\n",
    "        im = np.copy(im_array[i])\n",
    "        im[im<0] = 0\n",
    "        plt.imshow(np.log10(im+1),cmap='jet',\n",
    "                   vmin=conf['yoloConf']['png_threshold'],\n",
    "                  vmax=conf['yoloConf']['png_saturation'])\n",
    "    \n",
    "    color_map = {0:'pink',1:'cyan',2:'red',3:'yellow',4:'goldenrod',5:\"white\",\n",
    "             6:'green',7:'forestgreen',8:'magenta',9:'maroon'}\n",
    "    #Plot bounding boxes\n",
    "    for cmin,cmax,rmin,rmax,pred in zip(tmp['colmin'],tmp['colmax'],\n",
    "                                         tmp['rowmin'],tmp['rowmax'],tmp['prediction']):\n",
    "        plt.hlines(rmin,cmin,cmax,color=color_map[pred],lw=2)\n",
    "        plt.hlines(rmax,cmin,cmax,color=color_map[pred],lw=2)\n",
    "        plt.vlines(cmin,rmin,rmax,color=color_map[pred],lw=2)\n",
    "        plt.vlines(cmax,rmin,rmax,color=color_map[pred],lw=2)\n",
    "        \n",
    "    plt.xlabel('x')\n",
    "    plt.ylabel('y')\n",
    "    plt.colorbar().set_label('Intensity [ADU]',rotation = 270, labelpad = 20)\n",
    "    plt.show()"
   ]
  },
  {
   "cell_type": "code",
   "execution_count": null,
   "id": "c07d26c0",
   "metadata": {},
   "outputs": [],
   "source": [
    "cand"
   ]
  },
  {
   "cell_type": "code",
   "execution_count": null,
   "id": "b487a072",
   "metadata": {},
   "outputs": [],
   "source": [
    "'''Raw image'''\n",
    "plot(ims,1,yolo_scale=False,conf_thresh = 0)"
   ]
  },
  {
   "cell_type": "code",
   "execution_count": null,
   "id": "773d6c80",
   "metadata": {},
   "outputs": [],
   "source": [
    "'''Processed image'''\n",
    "plot(sample,1,yolo_scale=False,conf_thresh = 0.4)"
   ]
  },
  {
   "cell_type": "code",
   "execution_count": null,
   "id": "16541533",
   "metadata": {},
   "outputs": [],
   "source": [
    "'''Processed image as YOLO sees it'''\n",
    "plot(sample,1,yolo_scale=True,conf_thresh = 0.4)"
   ]
  },
  {
   "cell_type": "markdown",
   "id": "3fedcdae",
   "metadata": {},
   "source": [
    "### Now that you have some familiarity of how to downsample images and process them with YOLO, please run `process_images.py` and then you can move on to `Migdal_skim_visualization.ipynb`"
   ]
  }
 ],
 "metadata": {
  "kernelspec": {
   "display_name": "Python 3 (ipykernel)",
   "language": "python",
   "name": "python3"
  },
  "language_info": {
   "codemirror_mode": {
    "name": "ipython",
    "version": 3
   },
   "file_extension": ".py",
   "mimetype": "text/x-python",
   "name": "python",
   "nbconvert_exporter": "python",
   "pygments_lexer": "ipython3",
   "version": "3.10.14"
  }
 },
 "nbformat": 4,
 "nbformat_minor": 5
}
