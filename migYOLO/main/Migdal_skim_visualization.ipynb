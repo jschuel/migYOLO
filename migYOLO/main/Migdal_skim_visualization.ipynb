{
 "cells": [
  {
   "cell_type": "markdown",
   "id": "0baa4ead",
   "metadata": {},
   "source": [
    "### Here we will visualize the outputs to a Migdal skim"
   ]
  },
  {
   "cell_type": "code",
   "execution_count": null,
   "id": "655f539b",
   "metadata": {},
   "outputs": [],
   "source": [
    "import pandas as pd\n",
    "import numpy as np\n",
    "import matplotlib.pyplot as plt\n",
    "import os\n",
    "from migYOLO.utils.readYAML import read_config_file\n",
    "from migYOLO.pipeline.pipeline import downsample"
   ]
  },
  {
   "cell_type": "code",
   "execution_count": null,
   "id": "252370bc",
   "metadata": {},
   "outputs": [],
   "source": [
    "'''Open up globalConf'''\n",
    "conf = read_config_file('globalConf.yaml')"
   ]
  },
  {
   "cell_type": "code",
   "execution_count": null,
   "id": "134d1de0",
   "metadata": {},
   "outputs": [],
   "source": [
    "conf"
   ]
  },
  {
   "cell_type": "code",
   "execution_count": null,
   "id": "7e2da02b",
   "metadata": {},
   "outputs": [],
   "source": [
    "'''Load outputs'''\n",
    "yolodir = conf['yoloConf']['outpath']+'/base/without_pixel_hits/'\n",
    "migdal_candidate_dir = yolodir + 'migdal_candidates/'"
   ]
  },
  {
   "cell_type": "code",
   "execution_count": null,
   "id": "94a0d731",
   "metadata": {},
   "outputs": [],
   "source": [
    "os.listdir(yolodir)"
   ]
  },
  {
   "cell_type": "code",
   "execution_count": null,
   "id": "bf0a8c76",
   "metadata": {},
   "outputs": [],
   "source": [
    "import re\n",
    "'''Convention is a number comes after an underscore in our filenames so we'll extract this'''\n",
    "def find_number_in_filename(filename):\n",
    "    match = re.search(r'_(\\d+)', filename)\n",
    "    if match:\n",
    "        return match.group(1)\n",
    "    return None\n",
    "\n",
    "def load_data(migdal_candidates = False):\n",
    "    if not migdal_candidates:\n",
    "        path = yolodir\n",
    "    else:\n",
    "        path = migdal_candidate_dir\n",
    "    dfs = []\n",
    "    for fi in sorted(os.listdir(path)):\n",
    "        if '.feather' in fi:\n",
    "            df = pd.read_feather(path+fi)\n",
    "            df['fnum'] = find_number_in_filename(fi)\n",
    "            dfs.append(df)\n",
    "    df = pd.concat(dfs)\n",
    "    df.index = [i for i in range(0,len(df))]\n",
    "    return df"
   ]
  },
  {
   "cell_type": "code",
   "execution_count": null,
   "id": "0d0a5735",
   "metadata": {},
   "outputs": [],
   "source": [
    "df = load_data(migdal_candidates = False)"
   ]
  },
  {
   "cell_type": "code",
   "execution_count": null,
   "id": "edcb3431",
   "metadata": {},
   "outputs": [],
   "source": [
    "migs = load_data(migdal_candidates = True)"
   ]
  },
  {
   "cell_type": "code",
   "execution_count": null,
   "id": "b6035c5d",
   "metadata": {},
   "outputs": [],
   "source": [
    "migs"
   ]
  },
  {
   "cell_type": "markdown",
   "id": "f09eadad",
   "metadata": {},
   "source": [
    "### Lets plot some images"
   ]
  },
  {
   "cell_type": "code",
   "execution_count": null,
   "id": "fd44bd27",
   "metadata": {},
   "outputs": [],
   "source": [
    "imagepath = conf['downsample']['data_dir']"
   ]
  },
  {
   "cell_type": "code",
   "execution_count": null,
   "id": "5de140fb",
   "metadata": {},
   "outputs": [],
   "source": [
    "imagepath"
   ]
  },
  {
   "cell_type": "code",
   "execution_count": null,
   "id": "7b2091cc",
   "metadata": {},
   "outputs": [],
   "source": [
    "migs.columns"
   ]
  },
  {
   "cell_type": "code",
   "execution_count": null,
   "id": "082f8c45",
   "metadata": {},
   "outputs": [],
   "source": [
    "#Open up a single frame from an MTIFF\n",
    "import tifffile\n",
    "def quick_read(MTIFF_file,frame_index): \n",
    "    with tifffile.TiffFile(MTIFF_file) as tif: \n",
    "        image = tif.asarray(key=frame_index)\n",
    "    return image"
   ]
  },
  {
   "cell_type": "code",
   "execution_count": null,
   "id": "21c7bcb7",
   "metadata": {},
   "outputs": [],
   "source": [
    "def plot_event(df,i,process_image):\n",
    "    tmp = df.iloc[i]\n",
    "    imfile_basename = 'Images_batch_'\n",
    "    imname = imagepath+'/'+imfile_basename+str(tmp['fnum'])+'.MTIFF'\n",
    "    im = quick_read(imname,tmp['original_index'])\n",
    "    if process_image:\n",
    "        a = downsample(im)\n",
    "        im = a.processedImages\n",
    "    im[im<0] = 0\n",
    "    plt.imshow(np.log10(im+1),cmap='jet',vmin = 1.4,vmax=4)\n",
    "    colors = {0:'pink',1:'cyan',2:'red',3:'yellow',4:'goldenrod',5:'white',6:'green',7:'darkgreen',8:'white'}\n",
    "    for cmin,cmax,rmin,rmax,pred in zip(tmp['colmin'],tmp['colmax'],tmp['rowmin'],tmp['rowmax'],tmp['prediction']):\n",
    "        plt.hlines(rmin,cmin,cmax,color = colors[pred],lw=2)\n",
    "        plt.hlines(rmax,cmin,cmax,color = colors[pred],lw=2)\n",
    "        plt.vlines(cmin,rmin,rmax,color = colors[pred],lw=2)\n",
    "        plt.vlines(cmax,rmin,rmax,color = colors[pred],lw=2)\n",
    "    xmin = tmp['colmin'].min()\n",
    "    xmax = tmp['colmax'].max()\n",
    "    ymin = tmp['rowmin'].min()\n",
    "    ymax = tmp['rowmax'].max()\n",
    "    plt.xlim(xmin-5,xmax+5)\n",
    "    plt.ylim(ymin-5,ymax+5)"
   ]
  },
  {
   "cell_type": "code",
   "execution_count": null,
   "id": "e5a1807b",
   "metadata": {},
   "outputs": [],
   "source": [
    "plot_event(migs,0,process_image = True)"
   ]
  }
 ],
 "metadata": {
  "kernelspec": {
   "display_name": "Python 3 (ipykernel)",
   "language": "python",
   "name": "python3"
  },
  "language_info": {
   "codemirror_mode": {
    "name": "ipython",
    "version": 3
   },
   "file_extension": ".py",
   "mimetype": "text/x-python",
   "name": "python",
   "nbconvert_exporter": "python",
   "pygments_lexer": "ipython3",
   "version": "3.10.14"
  }
 },
 "nbformat": 4,
 "nbformat_minor": 5
}
