{
 "cells": [
  {
   "cell_type": "markdown",
   "id": "c66b98d7",
   "metadata": {},
   "source": [
    "### Here we will visualize the outputs to a Migdal skim"
   ]
  },
  {
   "cell_type": "code",
   "execution_count": 1,
   "id": "d111e0bd",
   "metadata": {},
   "outputs": [],
   "source": [
    "import pandas as pd\n",
    "import numpy as np\n",
    "import matplotlib.pyplot as plt\n",
    "import os\n",
    "from migYOLO.utils.readYAML import read_config_file\n",
    "from migYOLO.pipeline.pipeline import downsample"
   ]
  },
  {
   "cell_type": "code",
   "execution_count": 2,
   "id": "ec14731d",
   "metadata": {},
   "outputs": [],
   "source": [
    "'''Open up globalConf'''\n",
    "conf = read_config_file('globalConf.yaml')"
   ]
  },
  {
   "cell_type": "code",
   "execution_count": 3,
   "id": "f674f6ff",
   "metadata": {},
   "outputs": [
    {
     "data": {
      "text/plain": [
       "{'yoloConf': {'model': '../models/base.pt',\n",
       "  'calibration_file': '../data/calibration_files/test_calibration.npy',\n",
       "  'vignetting_map': '../data/calibration_files/test_map.pkl',\n",
       "  'downsample_path': '../data/downsampled_images',\n",
       "  'outpath': 'output',\n",
       "  'save_pixels': False,\n",
       "  'remove_downsample': True,\n",
       "  'png_threshold': 1.4,\n",
       "  'png_saturation': 4,\n",
       "  'migdal_cut': 'NR_energy > 60 & centroid_dist < 6'},\n",
       " 'downsample': {'dark_file': '../data/dark/sample_master_dark.npy',\n",
       "  'data_dir': '../data/raw_images',\n",
       "  'outpath': '../data/downsampled_images'}}"
      ]
     },
     "execution_count": 3,
     "metadata": {},
     "output_type": "execute_result"
    }
   ],
   "source": [
    "conf"
   ]
  },
  {
   "cell_type": "code",
   "execution_count": 4,
   "id": "2c4ed37c",
   "metadata": {},
   "outputs": [],
   "source": [
    "'''Load outputs'''\n",
    "model = os.path.splitext(os.path.split(conf['yoloConf']['model'])[1])[0] #will be 'base' or 'augment'\n",
    "yolodir = conf['yoloConf']['outpath']+'/%s/without_pixel_hits/'%(model)\n",
    "migdal_candidate_dir = yolodir + 'migdal_candidates/'"
   ]
  },
  {
   "cell_type": "code",
   "execution_count": 5,
   "id": "a7e5dcce",
   "metadata": {},
   "outputs": [
    {
     "data": {
      "text/plain": [
       "['Images_batch_2.feather',\n",
       " 'migdal_candidates',\n",
       " 'Images_batch_1.feather',\n",
       " 'Images_batch_4.feather',\n",
       " 'Images_batch_5.feather',\n",
       " 'Images_batch_3.feather']"
      ]
     },
     "execution_count": 5,
     "metadata": {},
     "output_type": "execute_result"
    }
   ],
   "source": [
    "os.listdir(yolodir)"
   ]
  },
  {
   "cell_type": "code",
   "execution_count": 6,
   "id": "b64d6e51",
   "metadata": {},
   "outputs": [],
   "source": [
    "'''Convenience functions for loading all YOLO output data. \n",
    "We add an \"fnum\" key to specify the file number so we can\n",
    "link original frames with 'fnum' and 'original_index'''\n",
    "\n",
    "import re\n",
    "'''Convention is a number comes after an underscore in our filenames so we'll extract this'''\n",
    "def find_number_in_filename(filename):\n",
    "    match = re.search(r'_(\\d+)', filename)\n",
    "    if match:\n",
    "        return match.group(1)\n",
    "    return None\n",
    "\n",
    "def load_data(migdal_candidates):\n",
    "    if not migdal_candidates:\n",
    "        path = yolodir\n",
    "    else:\n",
    "        path = migdal_candidate_dir\n",
    "    dfs = []\n",
    "    for fi in sorted(os.listdir(path)):\n",
    "        if '.feather' in fi:\n",
    "            df = pd.read_feather(path+fi)\n",
    "            df['fnum'] = find_number_in_filename(fi)\n",
    "            dfs.append(df)\n",
    "    df = pd.concat(dfs)\n",
    "    df.index = [i for i in range(0,len(df))]\n",
    "    return df"
   ]
  },
  {
   "cell_type": "code",
   "execution_count": 7,
   "id": "b74d5576",
   "metadata": {},
   "outputs": [],
   "source": [
    "'''Load all tracks'''\n",
    "\n",
    "df = load_data(migdal_candidates = False)"
   ]
  },
  {
   "cell_type": "code",
   "execution_count": 8,
   "id": "6c0cc235",
   "metadata": {},
   "outputs": [],
   "source": [
    "'''Load Migdal candidates'''\n",
    "\n",
    "migs = load_data(migdal_candidates = True)"
   ]
  },
  {
   "cell_type": "markdown",
   "id": "81672d28",
   "metadata": {},
   "source": [
    "### Lets plot some images"
   ]
  },
  {
   "cell_type": "code",
   "execution_count": 9,
   "id": "b65417b3",
   "metadata": {},
   "outputs": [],
   "source": [
    "'''raw image directoru'''\n",
    "imagepath = conf['downsample']['data_dir']"
   ]
  },
  {
   "cell_type": "code",
   "execution_count": 10,
   "id": "44608f0e",
   "metadata": {},
   "outputs": [
    {
     "data": {
      "text/plain": [
       "Index(['original_index', 'prediction', 'prob', 'colmin', 'colmax', 'rowmin',\n",
       "       'rowmax', 'energy', 'true_length', 'centroidx', 'centroidy', 'IoU',\n",
       "       'centroid_dist', 'coinc_flag', 'NR_idx', 'ER_idx', 'ER_length',\n",
       "       'NR_length', 'ER_energy', 'NR_energy', 'Ediff', 'fnum'],\n",
       "      dtype='object')"
      ]
     },
     "execution_count": 10,
     "metadata": {},
     "output_type": "execute_result"
    }
   ],
   "source": [
    "migs.columns"
   ]
  },
  {
   "cell_type": "code",
   "execution_count": 11,
   "id": "870e3491",
   "metadata": {},
   "outputs": [],
   "source": [
    "#Open up a single frame from an MTIFF\n",
    "import tifffile\n",
    "def quick_read(MTIFF_file,frame_index): \n",
    "    with tifffile.TiffFile(MTIFF_file) as tif: \n",
    "        image = tif.asarray(key=frame_index)\n",
    "    return image"
   ]
  },
  {
   "cell_type": "code",
   "execution_count": 14,
   "id": "7273aa70",
   "metadata": {},
   "outputs": [],
   "source": [
    "def plot_event(df,i,process_image):\n",
    "    tmp = df.iloc[i]\n",
    "    imfile_basename = 'Images_batch_'\n",
    "    imname = imagepath+'/'+imfile_basename+str(tmp['fnum'])+'.MTIFF'\n",
    "    im = quick_read(imname,tmp['original_index'])\n",
    "    if process_image:\n",
    "        a = downsample(im)\n",
    "        im = a.processedImages\n",
    "        im[im<0] = 0\n",
    "        plt.imshow(np.log10(im+1),cmap='jet',vmin = 1.4,vmax=4)\n",
    "    else:\n",
    "        for col in ['colmin','colmax','rowmin','rowmax']:\n",
    "            tmp[col] = tmp[col]*4\n",
    "        plt.imshow(im,cmap='jet')\n",
    "    colors = {0:'pink',1:'cyan',2:'red',3:'yellow',4:'goldenrod',5:'white',6:'green',7:'darkgreen',8:'white'}\n",
    "    #for cmin,cmax,rmin,rmax,pred in zip(tmp['colmin'],tmp['colmax'],tmp['rowmin'],tmp['rowmax'],tmp['prediction']):\n",
    "    #    plt.hlines(rmin,cmin,cmax,color = colors[pred],lw=2)\n",
    "    #    plt.hlines(rmax,cmin,cmax,color = colors[pred],lw=2)\n",
    "    #    plt.vlines(cmin,rmin,rmax,color = colors[pred],lw=2)\n",
    "    #    plt.vlines(cmax,rmin,rmax,color = colors[pred],lw=2)\n",
    "    xmin = tmp['colmin'].min()\n",
    "    xmax = tmp['colmax'].max()\n",
    "    ymin = tmp['rowmin'].min()\n",
    "    ymax = tmp['rowmax'].max()\n",
    "    plt.xlim(xmin-5,xmax+5)\n",
    "    plt.ylim(ymin-5,ymax+5)"
   ]
  },
  {
   "cell_type": "code",
   "execution_count": 15,
   "id": "6fbb7317",
   "metadata": {},
   "outputs": [
    {
     "data": {
      "image/png": "[encoded data removed]",
      "text/plain": [
       "<Figure size 640x480 with 1 Axes>"
      ]
     },
     "metadata": {},
     "output_type": "display_data"
    }
   ],
   "source": [
    "plot_event(migs,7,process_image = True)"
   ]
  },
  {
   "cell_type": "code",
   "execution_count": null,
   "id": "519927d0",
   "metadata": {},
   "outputs": [],
   "source": [
    "'''Function plots a line fit between the centroids of the bounding boxes'''\n",
    "\n",
    "def plot_distance(df,i,process_image,BB=False):\n",
    "    tmp = df.iloc[i]\n",
    "    imfile_basename = 'Images_batch_'\n",
    "    imname = imagepath+'/'+imfile_basename+str(tmp['fnum'])+'.MTIFF'\n",
    "    im = quick_read(imname,tmp['original_index'])\n",
    "    if process_image:\n",
    "        a = downsample(im)\n",
    "        im = a.processedImages\n",
    "        im[im<0] = 0\n",
    "        plt.imshow(np.log10(im+1),cmap='jet',vmin = 1.4,vmax=4)\n",
    "    else:\n",
    "        for col in ['colmin','colmax','rowmin','rowmax','centroidx','centroidy']:\n",
    "            tmp[col] = tmp[col]*4\n",
    "        plt.imshow(im,cmap='jet')\n",
    "    colors = {0:'pink',1:'cyan',2:'red',3:'yellow',4:'goldenrod',5:'white',6:'green',7:'darkgreen',8:'white'}\n",
    "\n",
    "    '''Perform line fit'''\n",
    "    x1 = tmp['centroidx'][0]\n",
    "    x2 = tmp['centroidx'][1]\n",
    "    y1 = tmp['centroidy'][0]\n",
    "    y2 = tmp['centroidy'][1]\n",
    "    fit = np.polyfit([x1,x2],[y1,y2],1)\n",
    "    \n",
    "    '''Plot line'''\n",
    "    xs = np.linspace(x1,x2,101)\n",
    "    plt.plot(xs,fit[0]*xs+fit[1],color='w',lw=2)\n",
    "    \n",
    "    '''Optional: Plot bounding boxes'''\n",
    "    if BB:\n",
    "        for cmin,cmax,rmin,rmax,pred in zip(tmp['colmin'],tmp['colmax'],tmp['rowmin'],tmp['rowmax'],tmp['prediction']):\n",
    "            plt.hlines(rmin,cmin,cmax,color = colors[pred],lw=2)\n",
    "            plt.hlines(rmax,cmin,cmax,color = colors[pred],lw=2)\n",
    "            plt.vlines(cmin,rmin,rmax,color = colors[pred],lw=2)\n",
    "            plt.vlines(cmax,rmin,rmax,color = colors[pred],lw=2)\n",
    "            \n",
    "    \n",
    "    xmin = tmp['colmin'].min()\n",
    "    xmax = tmp['colmax'].max()\n",
    "    ymin = tmp['rowmin'].min()\n",
    "    ymax = tmp['rowmax'].max()\n",
    "    plt.xlim(xmin-5,xmax+5)\n",
    "    plt.ylim(ymin-5,ymax+5)"
   ]
  },
  {
   "cell_type": "code",
   "execution_count": null,
   "id": "cb4c6eb5",
   "metadata": {},
   "outputs": [],
   "source": [
    "plot_distance(migs,7,process_image = True, BB=True)"
   ]
  },
  {
   "cell_type": "code",
   "execution_count": null,
   "id": "bb0c5e50",
   "metadata": {},
   "outputs": [],
   "source": []
  }
 ],
 "metadata": {
  "kernelspec": {
   "display_name": "Python 3 (ipykernel)",
   "language": "python",
   "name": "python3"
  },
  "language_info": {
   "codemirror_mode": {
    "name": "ipython",
    "version": 3
   },
   "file_extension": ".py",
   "mimetype": "text/x-python",
   "name": "python",
   "nbconvert_exporter": "python",
   "pygments_lexer": "ipython3",
   "version": "3.10.14"
  }
 },
 "nbformat": 4,
 "nbformat_minor": 5
}
